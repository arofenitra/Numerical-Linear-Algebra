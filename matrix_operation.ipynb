{
  "nbformat": 4,
  "nbformat_minor": 0,
  "metadata": {
    "colab": {
      "provenance": [],
      "authorship_tag": "ABX9TyP8a7H35H8lREO9laahqQCX",
      "include_colab_link": true
    },
    "kernelspec": {
      "name": "python3",
      "display_name": "Python 3"
    },
    "language_info": {
      "name": "python"
    }
  },
  "cells": [
    {
      "cell_type": "markdown",
      "metadata": {
        "id": "view-in-github",
        "colab_type": "text"
      },
      "source": [
        "<a href=\"https://colab.research.google.com/github/arofenitra/Numerical-Linear-Algebra/blob/main/matrix_operation.ipynb\" target=\"_parent\"><img src=\"https://colab.research.google.com/assets/colab-badge.svg\" alt=\"Open In Colab\"/></a>"
      ]
    },
    {
      "cell_type": "markdown",
      "source": [
        "### Matrix addition and multiplication and multiplication by scalar\n",
        "\n",
        "If $A=(a_{ij})_{n\\times n} , B=(a_{ij})_{n\\times n} , \\lambda \\in \\mathbb{C}$ then : $A+B=(a_{ij}+b_{ij})_{n\\times n} , $"
      ],
      "metadata": {
        "id": "bbG-sbYuBVLI"
      }
    },
    {
      "cell_type": "code",
      "execution_count": null,
      "metadata": {
        "id": "EPnqtqmOAsu_"
      },
      "outputs": [],
      "source": []
    }
  ]
}